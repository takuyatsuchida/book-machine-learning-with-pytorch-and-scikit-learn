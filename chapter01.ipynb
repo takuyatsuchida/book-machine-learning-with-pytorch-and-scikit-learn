{
 "cells": [
  {
   "cell_type": "markdown",
   "source": [
    "# Chapter 1 Giving Computers the Ability to Learn from Data"
   ],
   "metadata": {
    "collapsed": false
   }
  },
  {
   "cell_type": "code",
   "execution_count": 1,
   "outputs": [
    {
     "name": "stdout",
     "output_type": "stream",
     "text": [
      "[OK] Your Python version is 3.9.13\n",
      "[OK] numpy 1.21.5\n",
      "[OK] scipy 1.9.1\n",
      "[OK] matplotlib 3.5.2\n",
      "[OK] sklearn 1.1.1\n",
      "[OK] pandas 1.4.4\n"
     ]
    }
   ],
   "source": [
    "from version_checker import check_version\n",
    "\n",
    "check_version(\"3.8\", {\n",
    "    \"numpy\": \"1.21.2\",\n",
    "    \"scipy\": \"1.7.0\",\n",
    "    \"matplotlib\": \"3.4.3\",\n",
    "    \"sklearn\": \"1.0\",\n",
    "    \"pandas\": \"1.3.2\",\n",
    "})"
   ],
   "metadata": {
    "collapsed": false
   }
  }
 ],
 "metadata": {
  "kernelspec": {
   "display_name": "Python 3",
   "language": "python",
   "name": "python3"
  },
  "language_info": {
   "codemirror_mode": {
    "name": "ipython",
    "version": 2
   },
   "file_extension": ".py",
   "mimetype": "text/x-python",
   "name": "python",
   "nbconvert_exporter": "python",
   "pygments_lexer": "ipython2",
   "version": "2.7.6"
  }
 },
 "nbformat": 4,
 "nbformat_minor": 0
}
